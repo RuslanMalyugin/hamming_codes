{
 "cells": [
  {
   "cell_type": "code",
   "execution_count": 1,
   "id": "elegant-being",
   "metadata": {},
   "outputs": [],
   "source": [
    "import numpy as np\n",
    "import re"
   ]
  },
  {
   "cell_type": "markdown",
   "id": "current-distance",
   "metadata": {},
   "source": [
    "Преобразуем вход в двоичные слова"
   ]
  },
  {
   "cell_type": "code",
   "execution_count": 2,
   "id": "informed-result",
   "metadata": {},
   "outputs": [],
   "source": [
    "data = [168, 42, 21, 98, 32, 17, 249, 36, 8, 48, 179, 216, 91, 42, 50, 185, 220, 51, 176, 16, 168, 5, 81, 53, 152, 76, 228, 81, 181, 92, 224, 3, 240, 9, 54]"
   ]
  },
  {
   "cell_type": "code",
   "execution_count": 3,
   "id": "placed-cosmetic",
   "metadata": {},
   "outputs": [],
   "source": [
    "message = np.array(data)"
   ]
  },
  {
   "cell_type": "code",
   "execution_count": 4,
   "id": "rapid-seventh",
   "metadata": {},
   "outputs": [
    {
     "data": {
      "text/plain": [
       "35"
      ]
     },
     "execution_count": 4,
     "metadata": {},
     "output_type": "execute_result"
    }
   ],
   "source": [
    "len(message)"
   ]
  },
  {
   "cell_type": "code",
   "execution_count": 5,
   "id": "executed-grain",
   "metadata": {},
   "outputs": [
    {
     "data": {
      "text/plain": [
       "array([168,  42,  21,  98,  32,  17, 249,  36,   8,  48, 179, 216,  91,\n",
       "        42,  50, 185, 220,  51, 176,  16, 168,   5,  81,  53, 152,  76,\n",
       "       228,  81, 181,  92, 224,   3, 240,   9,  54])"
      ]
     },
     "execution_count": 5,
     "metadata": {},
     "output_type": "execute_result"
    }
   ],
   "source": [
    "message"
   ]
  },
  {
   "cell_type": "code",
   "execution_count": 6,
   "id": "exempt-canadian",
   "metadata": {},
   "outputs": [],
   "source": [
    "message_bin = np.vectorize(np.binary_repr)(message, width=8)"
   ]
  },
  {
   "cell_type": "code",
   "execution_count": 7,
   "id": "historical-strategy",
   "metadata": {},
   "outputs": [
    {
     "data": {
      "text/plain": [
       "array(['10101000', '00101010', '00010101', '01100010', '00100000',\n",
       "       '00010001', '11111001', '00100100', '00001000', '00110000',\n",
       "       '10110011', '11011000', '01011011', '00101010', '00110010',\n",
       "       '10111001', '11011100', '00110011', '10110000', '00010000',\n",
       "       '10101000', '00000101', '01010001', '00110101', '10011000',\n",
       "       '01001100', '11100100', '01010001', '10110101', '01011100',\n",
       "       '11100000', '00000011', '11110000', '00001001', '00110110'],\n",
       "      dtype='<U8')"
      ]
     },
     "execution_count": 7,
     "metadata": {},
     "output_type": "execute_result"
    }
   ],
   "source": [
    "message_bin"
   ]
  },
  {
   "cell_type": "code",
   "execution_count": 8,
   "id": "turkish-durham",
   "metadata": {},
   "outputs": [],
   "source": [
    "message_str = ''.join(message_bin)"
   ]
  },
  {
   "cell_type": "code",
   "execution_count": 9,
   "id": "incorrect-airplane",
   "metadata": {},
   "outputs": [
    {
     "data": {
      "text/plain": [
       "'1010100000101010000101010110001000100000000100011111100100100100000010000011000010110011110110000101101100101010001100101011100111011100001100111011000000010000101010000000010101010001001101011001100001001100111001000101000110110101010111001110000000000011111100000000100100110110'"
      ]
     },
     "execution_count": 9,
     "metadata": {},
     "output_type": "execute_result"
    }
   ],
   "source": [
    "message_str"
   ]
  },
  {
   "cell_type": "markdown",
   "id": "featured-relief",
   "metadata": {},
   "source": [
    "Необходимо добавить нулей в конец, чтобы мы могли поделить на кодовые слова."
   ]
  },
  {
   "cell_type": "code",
   "execution_count": 10,
   "id": "expanded-thunder",
   "metadata": {},
   "outputs": [],
   "source": [
    "n = 35"
   ]
  },
  {
   "cell_type": "code",
   "execution_count": 11,
   "id": "physical-shooting",
   "metadata": {},
   "outputs": [],
   "source": [
    "size = n - int(np.log2(n) + 1)"
   ]
  },
  {
   "cell_type": "code",
   "execution_count": 12,
   "id": "historic-wallace",
   "metadata": {},
   "outputs": [
    {
     "data": {
      "text/plain": [
       "29"
      ]
     },
     "execution_count": 12,
     "metadata": {},
     "output_type": "execute_result"
    }
   ],
   "source": [
    "size"
   ]
  },
  {
   "cell_type": "code",
   "execution_count": 13,
   "id": "vocational-coupon",
   "metadata": {},
   "outputs": [],
   "source": [
    "shift = n - len(message_str) % n"
   ]
  },
  {
   "cell_type": "code",
   "execution_count": 14,
   "id": "incorporate-florence",
   "metadata": {},
   "outputs": [
    {
     "data": {
      "text/plain": [
       "35"
      ]
     },
     "execution_count": 14,
     "metadata": {},
     "output_type": "execute_result"
    }
   ],
   "source": [
    "shift"
   ]
  },
  {
   "cell_type": "code",
   "execution_count": 15,
   "id": "short-answer",
   "metadata": {},
   "outputs": [],
   "source": [
    "message_str = message_str + '0' * shift"
   ]
  },
  {
   "cell_type": "code",
   "execution_count": 16,
   "id": "closing-indian",
   "metadata": {},
   "outputs": [],
   "source": [
    "words = re.findall('.{%s}' % n, message_str)"
   ]
  },
  {
   "cell_type": "markdown",
   "id": "sorted-hopkins",
   "metadata": {},
   "source": [
    "Полученный набор кодовых слов"
   ]
  },
  {
   "cell_type": "code",
   "execution_count": 17,
   "id": "subject-penguin",
   "metadata": {},
   "outputs": [
    {
     "data": {
      "text/plain": [
       "['10101000001010100001010101100010001',\n",
       " '00000000100011111100100100100000010',\n",
       " '00001100001011001111011000010110110',\n",
       " '01010100011001010111001110111000011',\n",
       " '00111011000000010000101010000000010',\n",
       " '10101000100110101100110000100110011',\n",
       " '10010001010001101101010101110011100',\n",
       " '00000000011111100000000100100110110',\n",
       " '00000000000000000000000000000000000']"
      ]
     },
     "execution_count": 17,
     "metadata": {},
     "output_type": "execute_result"
    }
   ],
   "source": [
    "words"
   ]
  },
  {
   "cell_type": "code",
   "execution_count": 18,
   "id": "civil-separation",
   "metadata": {},
   "outputs": [
    {
     "data": {
      "text/plain": [
       "35"
      ]
     },
     "execution_count": 18,
     "metadata": {},
     "output_type": "execute_result"
    }
   ],
   "source": [
    "len(words[0])"
   ]
  },
  {
   "cell_type": "markdown",
   "id": "relevant-colorado",
   "metadata": {},
   "source": [
    "Данные готовы для применения кодов Хэмминга"
   ]
  },
  {
   "cell_type": "code",
   "execution_count": 19,
   "id": "robust-server",
   "metadata": {},
   "outputs": [],
   "source": [
    "def hamming_decode(words, size, n):\n",
    "    shift = n - size\n",
    "#Считаем матрицу преобразования\n",
    "    matrix = np.vectorize(np.binary_repr)(np.arange(1,n + 1), width=shift)\n",
    "    zero_arr = np.zeros((n, shift))\n",
    "    for i in range(n):\n",
    "        zero_arr[i] = np.vectorize(int)(list(matrix[i]))[::-1]\n",
    "        \n",
    "    result = \"\"\n",
    "    for word in words:\n",
    "#Переводим слова в нужный вид для работы\n",
    "        binary_word = np.vectorize(int)(list(word)).reshape(-1)\n",
    "        binary_word = binary_word[::-1]\n",
    "        \n",
    "#Считаем бит, где произошла ошибка      \n",
    "        mistake = (binary_word @ zero_arr).reshape(-1)\n",
    "        mistake = mistake[::-1]\n",
    "        s = str((mistake) % 2)\n",
    "        s = re.sub(\"[^0-9]\", \"\", s)\n",
    "        s = int(s, 2)\n",
    "#Исправляем ошибку\n",
    "        binary_word = binary_word.reshape(-1)\n",
    "        if s > 0:\n",
    "            binary_word[s - 1] = (1 + binary_word[s - 1]) % 2\n",
    "        for i in range(shift):\n",
    "            binary_word[2 ** i - 1] = -1\n",
    "#Переводим слова опять к начальном виду и складываем вместе\n",
    "        binary_word = binary_word[binary_word >= 0]\n",
    "        binary_word = re.sub(\"[^0-9]\", \"\", str(binary_word))\n",
    "        result += binary_word\n",
    "    return result"
   ]
  },
  {
   "cell_type": "code",
   "execution_count": 20,
   "id": "improved-louis",
   "metadata": {},
   "outputs": [],
   "source": [
    "decoded_message = hamming_decode(words, size, n)"
   ]
  },
  {
   "cell_type": "code",
   "execution_count": 21,
   "id": "acceptable-fashion",
   "metadata": {},
   "outputs": [],
   "source": [
    "UTF8_SIZE = 8"
   ]
  },
  {
   "cell_type": "markdown",
   "id": "banner-puppy",
   "metadata": {},
   "source": [
    "Разбиваем на октеты, добавляем нули, переводим в чары"
   ]
  },
  {
   "cell_type": "code",
   "execution_count": 22,
   "id": "greek-center",
   "metadata": {},
   "outputs": [],
   "source": [
    "shift2 = UTF8_SIZE - len(decoded_message) % UTF8_SIZE"
   ]
  },
  {
   "cell_type": "code",
   "execution_count": 23,
   "id": "filled-tumor",
   "metadata": {},
   "outputs": [],
   "source": [
    "decoded_message = decoded_message + '0' * shift2"
   ]
  },
  {
   "cell_type": "code",
   "execution_count": 24,
   "id": "wicked-contractor",
   "metadata": {},
   "outputs": [],
   "source": [
    "decoded_chars = re.findall('.{%s}' % UTF8_SIZE, decoded_message)"
   ]
  },
  {
   "cell_type": "code",
   "execution_count": 25,
   "id": "expanded-international",
   "metadata": {},
   "outputs": [
    {
     "data": {
      "text/plain": [
       "['01001101',\n",
       " '01000101',\n",
       " '01010000',\n",
       " '01101000',\n",
       " '01001001',\n",
       " '00111110',\n",
       " '00100000',\n",
       " '00111000',\n",
       " '00110111',\n",
       " '00110100',\n",
       " '00110000',\n",
       " '00110111',\n",
       " '00110101',\n",
       " '00110001',\n",
       " '00100000',\n",
       " '00101010',\n",
       " '00100000',\n",
       " '00110110',\n",
       " '00110100',\n",
       " '00110110',\n",
       " '00110010',\n",
       " '00110111',\n",
       " '00110101',\n",
       " '00110110',\n",
       " '00100000',\n",
       " '00111101',\n",
       " '00100000',\n",
       " '00111111',\n",
       " '00000000',\n",
       " '00000000',\n",
       " '00000000',\n",
       " '00000000',\n",
       " '00000000']"
      ]
     },
     "execution_count": 25,
     "metadata": {},
     "output_type": "execute_result"
    }
   ],
   "source": [
    "decoded_chars"
   ]
  },
  {
   "cell_type": "code",
   "execution_count": 26,
   "id": "democratic-storm",
   "metadata": {},
   "outputs": [],
   "source": [
    "char_ids = np.vectorize(int)(decoded_chars, base=2)"
   ]
  },
  {
   "cell_type": "code",
   "execution_count": 27,
   "id": "proper-marshall",
   "metadata": {},
   "outputs": [
    {
     "data": {
      "text/plain": [
       "array([ 77,  69,  80, 104,  73,  62,  32,  56,  55,  52,  48,  55,  53,\n",
       "        49,  32,  42,  32,  54,  52,  54,  50,  55,  53,  54,  32,  61,\n",
       "        32,  63,   0,   0,   0,   0,   0])"
      ]
     },
     "execution_count": 27,
     "metadata": {},
     "output_type": "execute_result"
    }
   ],
   "source": [
    "char_ids"
   ]
  },
  {
   "cell_type": "code",
   "execution_count": 28,
   "id": "available-extent",
   "metadata": {},
   "outputs": [],
   "source": [
    "chars = np.vectorize(chr)(char_ids)"
   ]
  },
  {
   "cell_type": "code",
   "execution_count": 29,
   "id": "solid-gasoline",
   "metadata": {},
   "outputs": [
    {
     "data": {
      "text/plain": [
       "\"['M' 'E' 'P' 'h' 'I' '>' ' ' '8' '7' '4' '0' '7' '5' '1' ' ' '*' ' ' '6'\\n '4' '6' '2' '7' '5' '6' ' ' '=' ' ' '?' '' '' '' '' '']\""
      ]
     },
     "execution_count": 29,
     "metadata": {},
     "output_type": "execute_result"
    }
   ],
   "source": [
    "str(chars)"
   ]
  },
  {
   "cell_type": "code",
   "execution_count": 30,
   "id": "addressed-aurora",
   "metadata": {},
   "outputs": [],
   "source": [
    "final_message = \"\".join(chars)"
   ]
  },
  {
   "cell_type": "code",
   "execution_count": 31,
   "id": "about-revolution",
   "metadata": {},
   "outputs": [
    {
     "data": {
      "text/plain": [
       "'MEPhI> 8740751 * 6462756 = ?'"
      ]
     },
     "execution_count": 31,
     "metadata": {},
     "output_type": "execute_result"
    }
   ],
   "source": [
    "final_message"
   ]
  },
  {
   "cell_type": "code",
   "execution_count": 32,
   "id": "undefined-finding",
   "metadata": {},
   "outputs": [],
   "source": [
    "answer = 8740751 * 6462756"
   ]
  },
  {
   "cell_type": "code",
   "execution_count": 33,
   "id": "black-equity",
   "metadata": {},
   "outputs": [
    {
     "data": {
      "text/plain": [
       "56489340969756"
      ]
     },
     "execution_count": 33,
     "metadata": {},
     "output_type": "execute_result"
    }
   ],
   "source": [
    "answer"
   ]
  },
  {
   "cell_type": "markdown",
   "id": "silver-connection",
   "metadata": {},
   "source": [
    "Теперь займемся енкодингом"
   ]
  },
  {
   "cell_type": "markdown",
   "id": "hollywood-criminal",
   "metadata": {},
   "source": [
    "Абсолютно аналогичная операция декодингу"
   ]
  },
  {
   "cell_type": "code",
   "execution_count": 34,
   "id": "bacterial-shoot",
   "metadata": {},
   "outputs": [],
   "source": [
    "def hamming_encode(words, n):\n",
    "    size = len(words[0])\n",
    "    shift = n - size\n",
    "    matrix = np.vectorize(np.binary_repr)(np.arange(1,n + 1), width=shift)\n",
    "    zero_arr = np.zeros((n, shift))\n",
    "    for i in range(n):\n",
    "        zero_arr[i] = np.vectorize(int)(list(matrix[i]))[::-1]\n",
    "    result = \"\"\n",
    "    for word in words:\n",
    "        binary_word = np.vectorize(int)(list(word)).reshape(-1)\n",
    "        for i in range(shift):\n",
    "            binary_word = np.insert(binary_word, 2 ** i - 1, 0)\n",
    "        mistake = (binary_word @ zero_arr).reshape(-1) % 2\n",
    "        for i in range(shift):\n",
    "            binary_word[2 ** i - 1] = mistake[i]\n",
    "        binary_word = binary_word[::-1]\n",
    "        binary_word = np.vectorize(str)(binary_word)\n",
    "        binary_word = \"\".join(binary_word)\n",
    "        result += binary_word\n",
    "    return result"
   ]
  },
  {
   "cell_type": "markdown",
   "id": "interracial-experiment",
   "metadata": {},
   "source": [
    "Приведем данные к нужному виду, переводим в биты, докидываем нулей"
   ]
  },
  {
   "cell_type": "code",
   "execution_count": 35,
   "id": "competent-julian",
   "metadata": {},
   "outputs": [],
   "source": [
    "octets = np.vectorize(ord)(list(str(answer)))"
   ]
  },
  {
   "cell_type": "code",
   "execution_count": 36,
   "id": "national-garbage",
   "metadata": {},
   "outputs": [
    {
     "data": {
      "text/plain": [
       "array([53, 54, 52, 56, 57, 51, 52, 48, 57, 54, 57, 55, 53, 54])"
      ]
     },
     "execution_count": 36,
     "metadata": {},
     "output_type": "execute_result"
    }
   ],
   "source": [
    "octets"
   ]
  },
  {
   "cell_type": "code",
   "execution_count": 37,
   "id": "grave-smile",
   "metadata": {},
   "outputs": [],
   "source": [
    "binary_answer = np.vectorize(np.binary_repr)(octets, width=8)"
   ]
  },
  {
   "cell_type": "code",
   "execution_count": 38,
   "id": "ceramic-kelly",
   "metadata": {},
   "outputs": [
    {
     "data": {
      "text/plain": [
       "array(['00110101', '00110110', '00110100', '00111000', '00111001',\n",
       "       '00110011', '00110100', '00110000', '00111001', '00110110',\n",
       "       '00111001', '00110111', '00110101', '00110110'], dtype='<U8')"
      ]
     },
     "execution_count": 38,
     "metadata": {},
     "output_type": "execute_result"
    }
   ],
   "source": [
    "binary_answer"
   ]
  },
  {
   "cell_type": "code",
   "execution_count": 39,
   "id": "american-science",
   "metadata": {},
   "outputs": [],
   "source": [
    "binary_answer = ''.join(binary_answer)"
   ]
  },
  {
   "cell_type": "code",
   "execution_count": 40,
   "id": "asian-particular",
   "metadata": {},
   "outputs": [
    {
     "data": {
      "text/plain": [
       "'0011010100110110001101000011100000111001001100110011010000110000001110010011011000111001001101110011010100110110'"
      ]
     },
     "execution_count": 40,
     "metadata": {},
     "output_type": "execute_result"
    }
   ],
   "source": [
    "binary_answer"
   ]
  },
  {
   "cell_type": "code",
   "execution_count": 41,
   "id": "knowing-looking",
   "metadata": {},
   "outputs": [],
   "source": [
    "shift3 = size - len(binary_answer) % size"
   ]
  },
  {
   "cell_type": "code",
   "execution_count": 42,
   "id": "wrong-blade",
   "metadata": {},
   "outputs": [
    {
     "data": {
      "text/plain": [
       "4"
      ]
     },
     "execution_count": 42,
     "metadata": {},
     "output_type": "execute_result"
    }
   ],
   "source": [
    "shift3"
   ]
  },
  {
   "cell_type": "code",
   "execution_count": 43,
   "id": "static-february",
   "metadata": {},
   "outputs": [],
   "source": [
    "binary_answer = binary_answer + '0' * shift3"
   ]
  },
  {
   "cell_type": "code",
   "execution_count": 44,
   "id": "revolutionary-lotus",
   "metadata": {},
   "outputs": [
    {
     "data": {
      "text/plain": [
       "116"
      ]
     },
     "execution_count": 44,
     "metadata": {},
     "output_type": "execute_result"
    }
   ],
   "source": [
    "len(binary_answer)"
   ]
  },
  {
   "cell_type": "code",
   "execution_count": 45,
   "id": "revolutionary-employee",
   "metadata": {},
   "outputs": [],
   "source": [
    "words_to_encode = re.findall('.{%s}' % size, binary_answer)"
   ]
  },
  {
   "cell_type": "code",
   "execution_count": 46,
   "id": "handy-bones",
   "metadata": {},
   "outputs": [
    {
     "data": {
      "text/plain": [
       "['00110101001101100011010000111',\n",
       " '00000111001001100110011010000',\n",
       " '11000000111001001101100011100',\n",
       " '10011011100110101001101100000']"
      ]
     },
     "execution_count": 46,
     "metadata": {},
     "output_type": "execute_result"
    }
   ],
   "source": [
    "words_to_encode"
   ]
  },
  {
   "cell_type": "code",
   "execution_count": 47,
   "id": "undefined-discretion",
   "metadata": {},
   "outputs": [],
   "source": [
    "encoded_message = hamming_encode(words_to_encode, n)"
   ]
  },
  {
   "cell_type": "code",
   "execution_count": 48,
   "id": "waiting-hunger",
   "metadata": {},
   "outputs": [],
   "source": [
    "shift4 = UTF8_SIZE - len(encoded_message) % UTF8_SIZE"
   ]
  },
  {
   "cell_type": "code",
   "execution_count": 49,
   "id": "complicated-orlando",
   "metadata": {},
   "outputs": [],
   "source": [
    "encoded_message = encoded_message + '0' * shift4"
   ]
  },
  {
   "cell_type": "code",
   "execution_count": 50,
   "id": "suspended-invention",
   "metadata": {},
   "outputs": [],
   "source": [
    "encoded_message = re.findall('.{%s}' % UTF8_SIZE, encoded_message)"
   ]
  },
  {
   "cell_type": "code",
   "execution_count": 51,
   "id": "unavailable-boulder",
   "metadata": {},
   "outputs": [
    {
     "data": {
      "text/plain": [
       "['11110000',\n",
       " '10110001',\n",
       " '10101001',\n",
       " '01001101',\n",
       " '00000000',\n",
       " '10110011',\n",
       " '00110011',\n",
       " '00111000',\n",
       " '00001100',\n",
       " '11110001',\n",
       " '10110010',\n",
       " '01111000',\n",
       " '01001011',\n",
       " '10000001',\n",
       " '10110010',\n",
       " '10110001',\n",
       " '11010100',\n",
       " '11000000']"
      ]
     },
     "execution_count": 51,
     "metadata": {},
     "output_type": "execute_result"
    }
   ],
   "source": [
    "encoded_message"
   ]
  },
  {
   "cell_type": "code",
   "execution_count": 52,
   "id": "cellular-rings",
   "metadata": {},
   "outputs": [],
   "source": [
    "encoded_message = np.vectorize(int)(encoded_message, base=2)"
   ]
  },
  {
   "cell_type": "code",
   "execution_count": 53,
   "id": "centered-metro",
   "metadata": {},
   "outputs": [
    {
     "data": {
      "text/plain": [
       "array([240, 177, 169,  77,   0, 179,  51,  56,  12, 241, 178, 120,  75,\n",
       "       129, 178, 177, 212, 192])"
      ]
     },
     "execution_count": 53,
     "metadata": {},
     "output_type": "execute_result"
    }
   ],
   "source": [
    "encoded_message"
   ]
  },
  {
   "cell_type": "code",
   "execution_count": 54,
   "id": "willing-jumping",
   "metadata": {},
   "outputs": [],
   "source": [
    "encoded_message_str = np.vectorize(str)(encoded_message)"
   ]
  },
  {
   "cell_type": "code",
   "execution_count": 55,
   "id": "touched-celtic",
   "metadata": {},
   "outputs": [
    {
     "data": {
      "text/plain": [
       "'240, 177, 169, 77, 0, 179, 51, 56, 12, 241, 178, 120, 75, 129, 178, 177, 212, 192'"
      ]
     },
     "execution_count": 55,
     "metadata": {},
     "output_type": "execute_result"
    }
   ],
   "source": [
    "', '.join(encoded_message_str)"
   ]
  },
  {
   "cell_type": "markdown",
   "id": "visible-pressure",
   "metadata": {},
   "source": [
    "Итоговое сообщение:"
   ]
  },
  {
   "cell_type": "code",
   "execution_count": 56,
   "id": "fixed-kernel",
   "metadata": {},
   "outputs": [
    {
     "data": {
      "text/plain": [
       "array([240, 177, 169,  77,   0, 179,  51,  56,  12, 241, 178, 120,  75,\n",
       "       129, 178, 177, 212, 192])"
      ]
     },
     "execution_count": 56,
     "metadata": {},
     "output_type": "execute_result"
    }
   ],
   "source": [
    "encoded_message"
   ]
  },
  {
   "cell_type": "code",
   "execution_count": null,
   "id": "emerging-photography",
   "metadata": {},
   "outputs": [],
   "source": []
  }
 ],
 "metadata": {
  "kernelspec": {
   "display_name": "Python 3",
   "language": "python",
   "name": "python3"
  },
  "language_info": {
   "codemirror_mode": {
    "name": "ipython",
    "version": 3
   },
   "file_extension": ".py",
   "mimetype": "text/x-python",
   "name": "python",
   "nbconvert_exporter": "python",
   "pygments_lexer": "ipython3",
   "version": "3.8.2"
  }
 },
 "nbformat": 4,
 "nbformat_minor": 5
}
